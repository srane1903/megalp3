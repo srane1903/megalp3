{
  "nbformat": 4,
  "nbformat_minor": 0,
  "metadata": {
    "colab": {
      "provenance": []
    },
    "kernelspec": {
      "name": "python3",
      "display_name": "Python 3"
    },
    "language_info": {
      "name": "python"
    }
  },
  "cells": [
    {
      "cell_type": "code",
      "execution_count": 4,
      "metadata": {
        "colab": {
          "base_uri": "https://localhost:8080/"
        },
        "id": "bKlCHNzSQ6yj",
        "outputId": "703d97fa-c949-4a51-886f-21de671f3d2c"
      },
      "outputs": [
        {
          "output_type": "stream",
          "name": "stdout",
          "text": [
            "Fibonacci number at position 10 using iterative method is: 55\n",
            "Fibonacci number at position 10 using recursive method is: 55\n"
          ]
        }
      ],
      "source": [
        "# Non-Recursive (Iterative) Fibonacci Function\n",
        "def fibonacci_iterative(n):\n",
        "    if n <= 1:\n",
        "        return n\n",
        "    a, b = 0, 1\n",
        "    for _ in range(2, n + 1):\n",
        "        a, b = b, a + b\n",
        "    return b\n",
        "\n",
        "# Recursive Fibonacci Function\n",
        "def fibonacci_recursive(n):\n",
        "    if n <= 1:\n",
        "        return n\n",
        "    return fibonacci_recursive(n - 1) + fibonacci_recursive(n - 2)\n",
        "\n",
        "# Set the value of n for testing\n",
        "n = 10\n",
        "\n",
        "# Calculate Fibonacci numbers using both methods\n",
        "iterative_result = fibonacci_iterative(n)\n",
        "recursive_result = fibonacci_recursive(n)\n",
        "\n",
        "# Print results\n",
        "print(\"Fibonacci number at position\", n, \"using iterative method is:\", iterative_result)\n",
        "print(\"Fibonacci number at position\", n, \"using recursive method is:\", recursive_result)\n",
        "\n",
        "\n",
        "# Non-Recursive (Iterative) Fibonacci Function\n",
        "# This function calculates the Fibonacci number at position `n` using an iterative approach.\n",
        "# It is efficient for large `n` due to its linear time complexity.\n",
        "\n",
        "# Base case: If `n` is 0 or 1, return `n` itself as the Fibonacci number\n",
        "# This handles the first two Fibonacci numbers directly.\n",
        "# Initialize variables `a` and `b` as the first two Fibonacci numbers, 0 and 1.\n",
        "# Loop from 2 up to `n`, calculating the next Fibonacci number by updating `a` and `b`.\n",
        "# After the loop, `b` holds the Fibonacci number at position `n`.\n",
        "\n",
        "# Recursive Fibonacci Function\n",
        "# This function calculates the Fibonacci number at position `n` using a recursive approach.\n",
        "# The function has exponential time complexity due to repeated calculations,\n",
        "# making it inefficient for larger values of `n`.\n",
        "\n",
        "# Base case: If `n` is 0 or 1, return `n` itself as the Fibonacci number.\n",
        "# For other values of `n`, the function calls itself recursively to compute the\n",
        "# sum of the two preceding Fibonacci numbers, following the recursive formula:\n",
        "# F(n) = F(n - 1) + F(n - 2).\n",
        "\n",
        "# Set the value of `n` for testing the functions.\n",
        "\n",
        "# Calculate the Fibonacci number at position `n` using the iterative method.\n",
        "\n",
        "# Calculate the Fibonacci number at position `n` using the recursive method.\n",
        "\n",
        "# Print the results from both methods.\n",
        "# The output will show the Fibonacci number at position `n` calculated by each method.\n",
        "\n",
        "# Explanation of results:\n",
        "# - Both methods should produce the same Fibonacci number for the given `n`.\n",
        "# - The iterative approach is more efficient for large `n`, with time complexity O(n) and space complexity O(1).\n",
        "# - The recursive approach has exponential time complexity O(2^n) and uses O(n) space for the recursion stack,\n",
        "#   making it slower for large values of `n` due to repeated calculations.\n",
        "\n"
      ]
    },
    {
      "cell_type": "code",
      "source": [],
      "metadata": {
        "id": "vGnoUpQrR4Ga"
      },
      "execution_count": 4,
      "outputs": []
    }
  ]
}