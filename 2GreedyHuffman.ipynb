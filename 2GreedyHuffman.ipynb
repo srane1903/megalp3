{
  "nbformat": 4,
  "nbformat_minor": 0,
  "metadata": {
    "colab": {
      "provenance": []
    },
    "kernelspec": {
      "name": "python3",
      "display_name": "Python 3"
    },
    "language_info": {
      "name": "python"
    }
  },
  "cells": [
    {
      "cell_type": "code",
      "source": [
        "import heapq\n",
        "from collections import Counter, namedtuple\n",
        "\n",
        "class HuffmanNode(namedtuple(\"HuffmanNode\", [\"char\", \"freq\"])):\n",
        "    def __lt__(self, other):\n",
        "        return self.freq < other.freq\n",
        "\n",
        "def build_huffman_tree(frequencies):\n",
        "    heap = [HuffmanNode(char, freq) for char, freq in frequencies.items()]\n",
        "    heapq.heapify(heap)\n",
        "\n",
        "    while len(heap) > 1:\n",
        "        left = heapq.heappop(heap)\n",
        "        right = heapq.heappop(heap)\n",
        "\n",
        "\n",
        "        merged = HuffmanNode(None, left.freq + right.freq)\n",
        "\n",
        "        merged.left, merged.right = left, right\n",
        "\n",
        "        heapq.heappush(heap, merged)\n",
        "\n",
        "    return heap[0]\n",
        "\n",
        "def generate_huffman_codes(node, prefix=\"\", code_dict=None):\n",
        "    if code_dict is None:\n",
        "        code_dict = {}\n",
        "\n",
        "    if node.char is not None:\n",
        "        code_dict[node.char] = prefix\n",
        "    else:\n",
        "        generate_huffman_codes(node.left, prefix + \"0\", code_dict)\n",
        "        generate_huffman_codes(node.right, prefix + \"1\", code_dict)\n",
        "\n",
        "    return code_dict\n",
        "\n",
        "def huffman_encoding(text):\n",
        "    frequencies = Counter(text)\n",
        "\n",
        "    huffman_tree_root = build_huffman_tree(frequencies)\n",
        "\n",
        "    huffman_codes = generate_huffman_codes(huffman_tree_root)\n",
        "\n",
        "    encoded_text = ''.join(huffman_codes[char] for char in text)\n",
        "\n",
        "    return encoded_text, huffman_codes\n",
        "\n",
        "# Sample usage\n",
        "text = \"huffman encoding example\"\n",
        "encoded_text, huffman_codes = huffman_encoding(text)\n",
        "\n",
        "print(\"Original Text:\", text)\n",
        "print(\"Encoded Text:\", encoded_text)\n",
        "print(\"Huffman Codes:\", huffman_codes)\n",
        "\n",
        "\n",
        "\n",
        "\n",
        "# Explanation of Huffman Encoding Implementation:\n",
        "\n",
        "# 1. `HuffmanNode` Class:\n",
        "#    - Defines a node in the Huffman Tree with two attributes: `char` (the character) and `freq` (its frequency).\n",
        "#    - Includes the `__lt__` method, which allows nodes to be compared by frequency. This is essential for using\n",
        "#      a priority queue (min-heap), which organizes nodes by their frequency.\n",
        "\n",
        "# 2. `build_huffman_tree` Function:\n",
        "#    - This function builds the Huffman Tree by using a greedy strategy.\n",
        "#    - First, it creates a priority queue (min-heap) containing all characters with their frequencies as individual nodes.\n",
        "#    - In each iteration, the two nodes with the smallest frequencies are removed from the heap, merged into a new node\n",
        "#      (whose frequency is the sum of the two), and added back into the heap. This merging process continues until only one node remains,\n",
        "#      representing the root of the Huffman Tree.\n",
        "#    - The final tree structure reflects the frequency of characters, where more frequent characters will have shorter paths (codes).\n",
        "\n",
        "# 3. `generate_huffman_codes` Function:\n",
        "#    - This function traverses the Huffman Tree to assign binary codes to each character.\n",
        "#    - It takes a `prefix` string to build the binary code as it recursively traverses left (adds '0') and right (adds '1').\n",
        "#    - When it reaches a leaf node (which holds a character), it assigns the generated prefix to that character in the `code_dict`.\n",
        "#    - The function returns `code_dict`, a dictionary where each character has its corresponding binary code.\n",
        "\n",
        "# 4. `huffman_encoding` Function:\n",
        "#    - This function ties together the whole encoding process.\n",
        "#    - First, it uses `Counter` to calculate the frequency of each character in the input text.\n",
        "#    - Then, it builds the Huffman Tree using `build_huffman_tree` and generates codes for each character using `generate_huffman_codes`.\n",
        "#    - Finally, it encodes the text by replacing each character in the original text with its corresponding Huffman code.\n",
        "#    - The function returns both the encoded text and the dictionary of Huffman codes.\n",
        "\n",
        "# 5. Sample Usage:\n",
        "#    - The sample usage section defines a text to encode and then calls `huffman_encoding` to get the encoded text and Huffman codes.\n",
        "#    - It prints the original text, the encoded text, and the Huffman codes for each character.\n",
        "#    - This output demonstrates how Huffman Encoding compresses the text by assigning shorter binary codes to more frequent characters.\n",
        "\n",
        "\n"
      ],
      "metadata": {
        "colab": {
          "base_uri": "https://localhost:8080/"
        },
        "id": "vGnoUpQrR4Ga",
        "outputId": "b8ef589d-710e-4e5b-e39e-9f6c3facb743"
      },
      "execution_count": 5,
      "outputs": [
        {
          "output_type": "stream",
          "name": "stdout",
          "text": [
            "Original Text: huffman encoding example\n",
            "Encoded Text: 0000111011011101100111110111010100011110101110001010100011000110101001100111110011100011011100\n",
            "Huffman Codes: {'h': '0000', 'g': '0001', 'm': '001', 'i': '0100', 'd': '0101', 'n': '011', 'e': '100', ' ': '1010', 'f': '1011', 'p': '11000', 'x': '11001', 'c': '11010', 'l': '11011', 'o': '11100', 'u': '11101', 'a': '1111'}\n"
          ]
        }
      ]
    }
  ]
}