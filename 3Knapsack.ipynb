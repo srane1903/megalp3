{
  "nbformat": 4,
  "nbformat_minor": 0,
  "metadata": {
    "colab": {
      "provenance": []
    },
    "kernelspec": {
      "name": "python3",
      "display_name": "Python 3"
    },
    "language_info": {
      "name": "python"
    }
  },
  "cells": [
    {
      "cell_type": "code",
      "source": [
        "class Item:\n",
        "    def __init__(self, value, weight):\n",
        "        self.value = value\n",
        "        self.weight = weight\n",
        "        self.ratio = value / weight\n",
        "\n",
        "def fractional_knapsack(capacity, items):\n",
        "    items.sort(key=lambda x: x.ratio, reverse=True)\n",
        "\n",
        "    max_value = 0\n",
        "    for item in items:\n",
        "\n",
        "        if capacity >= item.weight:\n",
        "            capacity -= item.weight\n",
        "            max_value += item.value\n",
        "\n",
        "        else:\n",
        "            max_value += item.ratio * capacity\n",
        "            break\n",
        "\n",
        "    return max_value\n",
        "\n",
        "\n",
        "items = [Item(60, 10), Item(100, 20), Item(120, 30)]\n",
        "capacity = 50\n",
        "max_value = fractional_knapsack(capacity, items)\n",
        "\n",
        "print(\"Maximum value in the knapsack:\", max_value)\n",
        "\n",
        "\n",
        "\n",
        "\n",
        "\n",
        "\n",
        "\n",
        "\n",
        "# Explanation of the fractional knapsack solution:\n",
        "\n",
        "# 1. Define the `Item` class:\n",
        "#    - This class represents each item with two attributes, `value` and `weight`, and a derived attribute `ratio`\n",
        "#      which is the value-to-weight ratio. This ratio is used to determine the relative worth of each item per unit of weight.\n",
        "\n",
        "# 2. Define `fractional_knapsack` function:\n",
        "#    - Input: `capacity` (the maximum weight capacity of the knapsack) and a list of `items`.\n",
        "#    - Steps:\n",
        "#      a. Sort the list of items in descending order based on their value-to-weight ratio (`ratio`), using Python's sort function with a custom key.\n",
        "#         This greedy approach ensures that the most valuable items per unit of weight are considered first.\n",
        "#      b. Initialize `max_value` to zero. This will store the cumulative value of items added to the knapsack.\n",
        "#      c. Loop through the sorted items list:\n",
        "#         - If the current item can be fully added without exceeding `capacity`, add its full value to `max_value` and reduce the knapsack's `capacity`.\n",
        "#         - If only part of the item can be added (when the remaining capacity is less than the item's weight),\n",
        "#           calculate the partial value by multiplying the item's ratio by the remaining capacity. Add this to `max_value` and break the loop.\n",
        "#      d. Once the loop ends, the knapsack is either full or cannot accommodate any more items.\n",
        "#    - Output: Return `max_value`, which now holds the maximum achievable value.\n",
        "\n",
        "# 3. Sample usage:\n",
        "#    - Creates three `Item` objects with values and weights and defines a knapsack capacity.\n",
        "#    - Calls `fractional_knapsack` with the `items` and `capacity` to compute the maximum possible value.\n",
        "#    - Prints the maximum value that can be achieved with the given items and capacity.\n"
      ],
      "metadata": {
        "colab": {
          "base_uri": "https://localhost:8080/"
        },
        "id": "J4U-9UtZWcaA",
        "outputId": "010c10ff-63f7-40bd-a91e-298a9d1516a3"
      },
      "execution_count": 6,
      "outputs": [
        {
          "output_type": "stream",
          "name": "stdout",
          "text": [
            "Maximum value in the knapsack: 240.0\n"
          ]
        }
      ]
    }
  ]
}