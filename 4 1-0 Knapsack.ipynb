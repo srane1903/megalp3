{
  "nbformat": 4,
  "nbformat_minor": 0,
  "metadata": {
    "colab": {
      "provenance": []
    },
    "kernelspec": {
      "name": "python3",
      "display_name": "Python 3"
    },
    "language_info": {
      "name": "python"
    }
  },
  "cells": [
    {
      "cell_type": "code",
      "source": [
        "# Function to solve the 0-1 Knapsack problem using dynamic programming\n",
        "def knapsack(weights, values, capacity):\n",
        "    n = len(weights)\n",
        "    dp = [[0 for _ in range(capacity + 1)] for _ in range(n + 1)]\n",
        "\n",
        "    # Fill the DP table\n",
        "    for i in range(1, n + 1):\n",
        "        for w in range(1, capacity + 1):\n",
        "            if weights[i - 1] <= w:\n",
        "\n",
        "                dp[i][w] = max(dp[i - 1][w], values[i - 1] + dp[i - 1][w - weights[i - 1]])\n",
        "            else:\n",
        "                dp[i][w] = dp[i - 1][w]\n",
        "\n",
        "    return dp[n][capacity]\n",
        "\n",
        "# Sample usage\n",
        "weights = [10, 20, 30]\n",
        "values = [60, 100, 120]\n",
        "capacity = 50\n",
        "\n",
        "max_value = knapsack(weights, values, capacity)\n",
        "\n",
        "print(\"Maximum value in the knapsack:\", max_value)\n",
        "\n",
        "\n",
        "\n",
        "\n",
        "\n",
        "\n",
        "\n",
        "# Explanation of the 0-1 Knapsack solution:\n",
        "\n",
        "# 1. Define `knapsack` function:\n",
        "#    - Input: `weights` (a list of weights of items), `values` (a list of values of items), and `capacity` (the maximum capacity of the knapsack).\n",
        "#    - Steps:\n",
        "#      a. Initialize a 2D DP table `dp` with dimensions `(n+1)` x `(capacity+1)`, where `n` is the number of items.\n",
        "#         The table is filled with zeros initially, where each cell `dp[i][w]` represents the maximum value achievable with the first `i` items and a knapsack capacity of `w`.\n",
        "#      b. Iterate over each item (`i` from 1 to `n`) and each capacity (`w` from 1 to `capacity`):\n",
        "#         - If the current item `i` can be included (its weight is less than or equal to the current capacity `w`), compute the maximum value by either:\n",
        "#           i) Excluding the current item, i.e., taking the value from the previous row `dp[i-1][w]`.\n",
        "#           ii) Including the current item, i.e., adding the item's value `values[i-1]` to the value of the remaining capacity `dp[i-1][w-weights[i-1]]`.\n",
        "#         - If the item cannot be included (its weight exceeds `w`), then the value for `dp[i][w]` is taken from the previous row `dp[i-1][w]`.\n",
        "#      c. After filling the table, the maximum value achievable for the given knapsack capacity is stored in `dp[n][capacity]`.\n",
        "#    - Output: Return the value in `dp[n][capacity]` as the maximum achievable value.\n",
        "\n",
        "# 2. Sample usage:\n",
        "#    - Defines `weights` and `values` lists for the items, and the knapsack `capacity`.\n",
        "#    - Calls `knapsack` to compute the maximum achievable value.\n",
        "#    - Prints the maximum value that can be accommodated in the knapsack.\n",
        "\n"
      ],
      "metadata": {
        "colab": {
          "base_uri": "https://localhost:8080/"
        },
        "id": "J4U-9UtZWcaA",
        "outputId": "010c10ff-63f7-40bd-a91e-298a9d1516a3"
      },
      "execution_count": 6,
      "outputs": [
        {
          "output_type": "stream",
          "name": "stdout",
          "text": [
            "Maximum value in the knapsack: 240.0\n"
          ]
        }
      ]
    }
  ]
}